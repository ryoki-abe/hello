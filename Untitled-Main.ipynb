{
 "cells": [
  {
   "cell_type": "code",
   "execution_count": 1,
   "metadata": {
    "ExecuteTime": {
     "end_time": "2018-09-27T00:59:10.970199Z",
     "start_time": "2018-09-27T00:59:09.978302Z"
    }
   },
   "outputs": [],
   "source": [
    "import os\n",
    "import numpy as np\n",
    "import pandas as pd\n",
    "import glob"
   ]
  },
  {
   "cell_type": "code",
   "execution_count": 151,
   "metadata": {
    "ExecuteTime": {
     "end_time": "2018-09-27T02:25:35.611750Z",
     "start_time": "2018-09-27T02:25:35.525757Z"
    }
   },
   "outputs": [],
   "source": [
    "def Comparision(CorrectPath, UsePath, SortName, OutPutPath):\n",
    "    \n",
    "    # 正解データの読み取り\n",
    "    CorrectData = pd.read_csv(CorrectPath)\n",
    "    # 比較データの読み取り\n",
    "    InCorrectData = pd.read_csv(UsePath)\n",
    "    # 正解データのカラムを取り出す\n",
    "    ColumnName = CorrectData.columns.values\n",
    "    \n",
    "    try:\n",
    "    \n",
    "        # 各データをソート\n",
    "        CorrectData = CorrectData.sort_values(by=SortName)\n",
    "        InCorrectData = InCorrectData.sort_values(by=SortName)\n",
    "        \n",
    "    except KeyError:\n",
    "        return 'SortNameError', UsePath\n",
    "    \n",
    "    try:    \n",
    "        \n",
    "        # 条件式　不一致の値があれば、「0」を返す.一致していれば、「1」を返す\n",
    "        if (InCorrectData[ColumnName].round(5) == CorrectData.round(5)).all().all() == False:\n",
    "\n",
    "            # 取り出したカラムのみで比較する\n",
    "            InCorrectData[InCorrectData[ColumnName].round(5) != CorrectData.round(5)].dropna(how='all')\n",
    "\n",
    "            # 正解データと一致しない箇所の行番号を出力\n",
    "            index_list = (InCorrectData[InCorrectData[ColumnName].round(5) != CorrectData.round(5)].dropna(how='all')).index.tolist()\n",
    "\n",
    "            # 正解データの不一致箇所に Correct\n",
    "            CompCorrectData =  CorrectData.loc[index_list,:].copy()\n",
    "            CompCorrectData.loc[index_list,'DataInfo'] = 'Correct'\n",
    "\n",
    "            # 比較データの不一致箇所に InCorrect\n",
    "            CompInCorrectData = InCorrectData.loc[index_list,:].copy()\n",
    "            CompInCorrectData.loc[index_list,'DataInfo'] = 'InCorrect'\n",
    "\n",
    "            # 不一致だった正解データ、比較データをマージ、csv化\n",
    "            MainData = pd.concat([CompCorrectData, CompInCorrectData], axis=1)\n",
    "            #MainData.to_csv(OutPutPath,index=False)\n",
    "\n",
    "            return 'NG'\n",
    "\n",
    "\n",
    "        elif (InCorrectData[ColumnName].round(5) == CorrectData.round(5)).all().all() == True:\n",
    "            \n",
    "            return 'OK' ,UsePath\n",
    "\n",
    "    except:\n",
    "        return 'ColumnError', UsePath"
   ]
  },
  {
   "cell_type": "code",
   "execution_count": 113,
   "metadata": {
    "ExecuteTime": {
     "end_time": "2018-09-27T02:04:48.327870Z",
     "start_time": "2018-09-27T02:04:48.316910Z"
    }
   },
   "outputs": [],
   "source": [
    "# 正解データpath\n",
    "CorrectPath = \"../01_Data/01_InputData/02_CorrectData/A/test_2_2/test_result_2_2.csv\"\n",
    "# 比較データpath\n",
    "InCorrectPath = [\"../01_Data/01_InputData/02_CorrectData/A/test_2_2/test_result_2_2.csv\",\n",
    "                 \"../01_Data/01_InputData/02_CorrectData/C/q2/test_result_2_2.csv\", \n",
    "                 \"../01_Data/01_InputData/02_CorrectData/D/q2/test_result_2_2.csv\"]\n",
    "# ソートするカラム名\n",
    "SortName = 'year_month'\n",
    "# 比較結果を出力するpath\n",
    "OutPutPath = \"../01_Data/01_InputData/02_CorrectData/A/test_2_1/test.csv\""
   ]
  },
  {
   "cell_type": "code",
   "execution_count": 157,
   "metadata": {
    "ExecuteTime": {
     "end_time": "2018-09-27T02:28:54.737209Z",
     "start_time": "2018-09-27T02:28:54.729211Z"
    }
   },
   "outputs": [],
   "source": [
    "# 作成ツール内のcsvファイルを読み込む\n",
    "AllPath = glob.glob('../01_Data/*/*/*/*/*.csv')"
   ]
  },
  {
   "cell_type": "code",
   "execution_count": null,
   "metadata": {
    "ExecuteTime": {
     "end_time": "2018-09-27T02:25:36.989510Z",
     "start_time": "2018-09-27T02:25:36.869912Z"
    }
   },
   "outputs": [],
   "source": [
    "# 複数のデータで実行\n",
    "for UsePath in AllPath:\n",
    "    print(Comparision(CorrectPath, UsePath, SortName, OutPutPath))\n"
   ]
  }
 ],
 "metadata": {
  "kernelspec": {
   "display_name": "Python 3",
   "language": "python",
   "name": "python3"
  },
  "language_info": {
   "codemirror_mode": {
    "name": "ipython",
    "version": 3
   },
   "file_extension": ".py",
   "mimetype": "text/x-python",
   "name": "python",
   "nbconvert_exporter": "python",
   "pygments_lexer": "ipython3",
   "version": "3.6.4"
  }
 },
 "nbformat": 4,
 "nbformat_minor": 2
}
